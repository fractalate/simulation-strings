{
 "cells": [
  {
   "cell_type": "markdown",
   "id": "511bc561-b443-4967-aee9-8caa118a8f32",
   "metadata": {},
   "source": [
    "# Journal for Simulations of Strings"
   ]
  },
  {
   "cell_type": "markdown",
   "id": "4d687316-f34b-4ef9-857e-760de58d2513",
   "metadata": {},
   "source": [
    "## Thursday, November 14, 2024\n",
    "\n",
    "My initial thoughts for simulating the behavior of a string is to treat the string as a sequence of connected pendulums. I'm not sure this is a good way to think about the problem, but I hope to gain insight into my assumption as I get more acquainted with the related physics.\n",
    "\n",
    "I'm going to begin by building a basic simulation of a pendulum: a setup where you have a point mass suspended from a fixed point on a massless string with no air resistance or friction. In order to do this, I need to get familiar with the physics of periodic motion, which I plan to study from my book [Sears & Zermansky's University Physics with Modern Physics 15e](https://www.pearson.com/en-us/subject-catalog/p/university-physics-with-modern-physics/P200000006855/9780136874331). Chapter 14 is about periodic motion, but it's quite a bit further into the material than I've studied so far.\n",
    "\n",
    "Here's an outline of chapter 14:\n",
    "\n",
    "* 14.1 - Describing Oscillation\n",
    "* 14.2 - Simple Harmonic Motion\n",
    "* 14.3 - Energy in Simple Harmonic Motion\n",
    "* 14.4 - Applications of Simple Harmonic Motion\n",
    "* 14.5 - The Simple Pendulum\n",
    "* 14.6 - The Physical Pendulum\n",
    "* 14.7 - Damped Oscillations\n",
    "* 14.8 - Forced Oscillations and Resonance"
   ]
  },
  {
   "cell_type": "code",
   "execution_count": null,
   "id": "86e6f45c-8ae8-4371-b0c5-1a7ef2e35451",
   "metadata": {},
   "outputs": [],
   "source": []
  }
 ],
 "metadata": {
  "kernelspec": {
   "display_name": "Python 3 (ipykernel)",
   "language": "python",
   "name": "python3"
  },
  "language_info": {
   "codemirror_mode": {
    "name": "ipython",
    "version": 3
   },
   "file_extension": ".py",
   "mimetype": "text/x-python",
   "name": "python",
   "nbconvert_exporter": "python",
   "pygments_lexer": "ipython3",
   "version": "3.11.2"
  }
 },
 "nbformat": 4,
 "nbformat_minor": 5
}
